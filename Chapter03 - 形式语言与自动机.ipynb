{
 "cells": [
  {
   "cell_type": "markdown",
   "metadata": {},
   "source": [
    "### <font color = 'blue'>**1、与自动机**</font>"
   ]
  },
  {
   "cell_type": "markdown",
   "metadata": {},
   "source": [
    "#### **1.1 图**"
   ]
  },
  {
   "cell_type": "markdown",
   "metadata": {},
   "source": [
    "**1、无向图：** 无向图 $G$ 可以定义为一个二元组 $G = (N,E)$，其中， $N$是顶点的非空有限集合， $N = \\{n_i|i=0,2,\\cdots,k\\}$； $E$ 是边的有限集合， $E=\\{(n_i,n_j)|n_i,n_j\\in N\\}$ \n",
    "\n",
    "**2、有向图：** 无向图 $D$ 可以定义为一个二元组 $D = (N,E)$，$N$是顶点的非空有限集合， $N = \\{n_i|i=0,2,\\cdots,k\\}$； $E$ 是边的有限集合， $E=\\{(n_i,n_j)|n_i,n_j\\in N\\}$ ,且 $(n_i,n_j)\\neq (n_j,n_i)$ 。$(n_i,n_j)\\in E$ 是顶点 $n_i$ 的出边， 顶点 $n_j$ 的入边。\n",
    "\n",
    "**3、连通图：** 连通图是一个无向图 $G = (N,E)$ 或 有向图 $D = (N,E)$。对于 $N$ 中任意两个顶点 $n_i,n_j$，存在一个顶点的序列 $P$， $P$ 也被称为图 $G$ 或 $D$ 的一条路径或通路。\n",
    "\n",
    "**4、回路：** 即开始和终结于同一顶点的通路称为回路。 "
   ]
  },
  {
   "cell_type": "markdown",
   "metadata": {},
   "source": []
  },
  {
   "cell_type": "markdown",
   "metadata": {},
   "source": [
    "### <font color = 'blue'>**2、形式语言**</font>"
   ]
  },
  {
   "cell_type": "markdown",
   "metadata": {},
   "source": [
    "描述一种语言可以有三种途径：\n",
    "\n",
    "（1）穷举法：把语言中的所有句子都枚举出来。显然，这种方法只适合句子数目有限的语言。\n",
    "\n",
    "（2）文法（产生式系统）描述：语言中的每个句子用严格定义的规则来构造，利用规则生成语言中合法的句子。\n",
    "\n",
    "（3）自动机法：通过对输入的句子进行合法性检验，区别哪些是语言中的句子，哪些不是语言中的句子。\n",
    "\n",
    "<font size=4 color='red'><b>形式语言是用来精确地描述语言（包括方式语言和自然语言）及其结构的手段。</b></font>\n",
    "\n",
    "**定义（形式语法）** 形式语法是一个四元组 $G = (N,\\Sigma,P,S)$，其中， \n",
    "\n",
    "- $N$ 是非终结符(non-terminal symbol) 的有限集合（有时也称变量集或句法种类集）；\n",
    "- $\\Sigma$ 是终结符号（terminal symbol）的有限集合 $N\\cap \\Sigma = \\phi$；$V = N\\cup \\Sigma$ 称为总词汇表（vocabulary）； \n",
    "- $P$ 是一种重写规则的有限集合： $P = \\{\\alpha \\rightarrow \\beta\\}$，其中， $\\alpha,\\beta$ 是由 $V$ 中元素构成的串，但是， $\\alpha$ 中至少应含有一个非终结符。\n",
    "- $S\\in N$ 称为句子符或初始符。\n",
    "\n",
    "**定义（句子）** 文法 $G = (N,\\Sigma,P,S)$ 的句子形式（句型）通过如下递归方式定义：\n",
    "\n",
    "（1）$S$ 是一个句子形式；\n",
    "\n",
    "（2）如果$\\gamma\\beta\\alpha$是一个句子的形式，且 $\\beta\\rightarrow \\delta$ 是 $P$ 中的产生式，那么， $\\gamma\\delta\\alpha$ 也是一个句子的形式。\n",
    "\n",
    "对于文法 $G$，不含非终结符的句子形式称为 $G$ 生成的句子。由文法 $G$ 生成的语言（或称G识别的语言）是指 $G$ 生成的所有句子的集合，记作 $L(G):$\n",
    "#### $$L(G) = \\{x|x\\in\\Sigma,S\\mathop\\Rightarrow_G x\\} $$ \n"
   ]
  },
  {
   "cell_type": "markdown",
   "metadata": {},
   "source": [
    "### **形式语法的类型**\n",
    "在乔姆斯基的语法理论中，文法被划分为4种类型：3型文法、2型文法、1型文法和0型文法，分别称为正则文法、上下文无关文法、上下文相关文法和无约束文法。\n",
    "- #### **1、正则文法**\n",
    "\n",
    "**定义（正则文法）** 如果文法 $G$ 的规则集 $P$中所有规则均满足如下形式： $A\\rightarrow Bx$，或 $A\\rightarrow x$，其中， $A,B\\in N,x\\in \\Sigma$，则称方文法 $G$ 为正则文法，或称3型文法。\n",
    "\n",
    "在这种书写格式中，由于规则右部的非终结符号（如果有）出现在最左边，所以又称为左线性正则文法。类似地，如一正则文法所有含非终结符号的规则形式为$A\\rightarrow xB$，则该文法称为右线性正则文法。\n",
    "\n",
    "- #### **2、上下文无关文法**\n",
    "\n",
    "**定义（上下文无关文法）** 如果文法 $G$的规则集 $P$ 中所有规则均满足如下形式： $A\\rightarrow \\alpha$，其中， $A\\in N,\\alpha \\in (N\\cup \\Sigma)$,则称文法 $G$ 为上下文无关文法（context-free grammer, CFG）,或称2型文法。\n",
    "\n",
    "- #### **3、上下文有关文法**\n",
    "\n",
    "**定义（上下文有关文法）** 如果文法 $G$的规则集 $P$ 中所有规则均满足如下形式： $\\alpha A\\beta\\rightarrow \\alpha \\gamma\\beta$，其中， $A\\in N,\\alpha \\in (N\\cup \\Sigma)$，且，$\\gamma$ 至少包含一个字符， 则称文法 $G$ 为上下文有关文法（context-sensitive grammer, CSG）,或称1型文法。\n",
    "\n",
    "- #### **3、无约束文法**\n",
    "\n",
    "**定义（无约束文法）** 如果文法 $G$的规则集 $P$ 中所有规则均满足如下形式： $\\alpha \\rightarrow \\beta$，其中， $\\alpha\\in (N\\cup \\Sigma),\\beta \\in (N\\cup \\Sigma)$， 则称文法 $G$ 为无约束文法或无限制重写系统，也称为0型文法。\n",
    "\n"
   ]
  },
  {
   "cell_type": "markdown",
   "metadata": {},
   "source": [
    "### **CFG 识别句子的派生树表示**\n",
    "\n",
    "一个上下文无法文法 $G = (N,\\Sigma,P,S)$ 产生句子的过程可以由派生树表示。派生树也称为语法树（syntactic tree），或分析树（parsing tree）、推导树等。\n",
    "\n",
    "**派生树的构造步骤如下：**\n",
    "- （1）对于任意 $x\\in N\\cup \\Sigma$，给一个标记作为结点，令文法的初始符号 $S$ 作为树的根结点。\n",
    "- （2）如果一个结点的标记为 $A$，且至少 $$ $$ $$ $$ $$ $$ $$ $$ $$ $$ $$ $$ $$ $$ $$ $$ $$ $$ $$ $$ $$ $$ $$ $$ $$ $$ $$ $$ $$ $$ $$ $$ $$ $$ $$ $$ $$ $$ $$ $$ $$ $$ $$ $$ $$ $$ $$ $$ $$ $$ $$ $$ $$ $$ $$ $$ $$ $$ $$ $$ $$ $$ $$ $$ $$ $$ $$ $$ $$ $$ $$ $$ $$ $$ $$ $$ $$ $$ $$ $$ $$ $$ $$ $$ $$ $$ $$ $$ "
   ]
  },
  {
   "cell_type": "markdown",
   "metadata": {},
   "source": [
    "### <font color = 'blue'>**3、自动机理论**</font>"
   ]
  },
  {
   "cell_type": "markdown",
   "metadata": {},
   "source": []
  },
  {
   "cell_type": "markdown",
   "metadata": {},
   "source": []
  },
  {
   "cell_type": "markdown",
   "metadata": {},
   "source": [
    "### <font color = 'blue'>**4、自动机在自然语言处理中的应用**</font>"
   ]
  },
  {
   "cell_type": "markdown",
   "metadata": {},
   "source": []
  },
  {
   "cell_type": "markdown",
   "metadata": {},
   "source": [
    "<img src = 'nlp3.png' width = 600></img>"
   ]
  },
  {
   "cell_type": "markdown",
   "metadata": {},
   "source": []
  },
  {
   "cell_type": "markdown",
   "metadata": {},
   "source": []
  },
  {
   "cell_type": "markdown",
   "metadata": {},
   "source": []
  },
  {
   "cell_type": "markdown",
   "metadata": {},
   "source": []
  },
  {
   "cell_type": "markdown",
   "metadata": {},
   "source": []
  },
  {
   "cell_type": "markdown",
   "metadata": {},
   "source": []
  },
  {
   "cell_type": "markdown",
   "metadata": {},
   "source": []
  },
  {
   "cell_type": "markdown",
   "metadata": {},
   "source": []
  }
 ],
 "metadata": {
  "kernelspec": {
   "display_name": "Python 3",
   "language": "python",
   "name": "python3"
  },
  "language_info": {
   "codemirror_mode": {
    "name": "ipython",
    "version": 3
   },
   "file_extension": ".py",
   "mimetype": "text/x-python",
   "name": "python",
   "nbconvert_exporter": "python",
   "pygments_lexer": "ipython3",
   "version": "3.6.7"
  }
 },
 "nbformat": 4,
 "nbformat_minor": 4
}
