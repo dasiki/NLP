{
 "cells": [
  {
   "cell_type": "markdown",
   "metadata": {},
   "source": [
    "<img src = 'NLP0.png' width = 600></img>"
   ]
  },
  {
   "cell_type": "markdown",
   "metadata": {},
   "source": [
    "<img src = 'nlp1.png' width = 600></img>"
   ]
  },
  {
   "cell_type": "markdown",
   "metadata": {},
   "source": [
    "### <font color = 'blue'>**自然语言处理研究的问题：**</font>"
   ]
  },
  {
   "cell_type": "markdown",
   "metadata": {},
   "source": [
    "\n",
    "\n",
    "（1）**机器翻译（machine translation,MT）:** 实现一种语言到另一种语言的自动翻译。\n",
    "\n",
    "（2）**自动文摘（automatic summarizing 或 automatic abstracting）:** 将原文档的主要内容和含义自动归纳、提炼出来，形成摘要或缩写；\n",
    "\n",
    "（3）**信息检索（information retrival）：** 信息检索也称为情报检索，就是利用计算机系统从海量文档中找到符合用户需要的相关文档。面向两种或两种以上语言的信息检索叫做跨语言信息检索（corss-language/trans-lingual information retrival）\n",
    "\n",
    "（4）**文档分类：** 文档分类也称为文本分类或信息分类，其目的就是利用计算机对大量的文档按照一定的分类标准（例如主题或内容划分等）实现自动分类。近年来，情感分类（sentiment classification)或称文本倾向性识别成为本领域研究的热点。情感分类已成为支持舆情分析的基本技术。\n",
    "\n",
    "（5）**问答系统（question-answering system）：** 通过计算机系统对用户提出的问题的理解，利用自动推理等手段，在有关知识资源中自动求解答案并做出相应的回答。问答技术有时与语音技术和多模态输入、输出技术，以及人-机交互等技术相结合，构成人-机对话系统（human-computer dialogue system）.\n",
    "\n",
    "（6）**信息过滤（information filtering）：** 通过计算机系统自动识别和过滤那些满足特定条件的文档信息。通常指网络有害信息的自动识别和过滤，主要用于信息安全和防护、网络内容管理等。\n",
    "\n",
    "（7）**信息抽取（information extraction）：** 指从文本中抽取特定事件（event）或事实信息，有时候又称事件抽取（event extract）。信息抽取与问答系统也有密切的联系。一般而言，信息抽取系统要抽取的信息是明定的、事先规定好的，系统只是将抽取出来的事实信息填充在给定框架槽里，而问答系统面对用户问题往往是随机的、不确定的。而且系统需要将问题的答案生成自然语言句子，通过自然、规范的语句准确地表达出来，使系统与用户之间形成一问一答的交互过程。\n",
    "\n",
    "（8）**文本挖掘（text minging）：** 有时候又称为数据挖掘（data mining），是指从文本（多指网络文本）中获取高质量信息的过程。文本挖掘技术一般涉及文本分类、文本聚类（text clustering）、概念或实体抽取（concept / entity extraction）、粒度分类、情感分析（sentiment analysis）、自动文摘和实体关系建模（entity relation modeling）。\n",
    "\n",
    "（9）**舆情分析（public opinion analysis）：** 舆情是指在一定的社会空间内，围绕中介性社会事件的发生、发展和变化，民众对社会管理者产生和持有的社会政治态度。\n",
    "\n",
    "（10）**隐喻计算（metaphorical computation）：** \"隐喻\"就是用乙事物或某些特征来描述甲事物的语言现象。简要地讲，就是研究自然语言语句或篇章中隐喻修辞的理解方式。\n",
    "\n",
    "（11）**文字编辑和自动校对（automatic proofreading）：** 对文字拼写、用词，甚至语法、文档格式等进行自动检查、校对和编排。\n",
    "（12）**作文自动评分：** 对作文质量和写作水平进行自动评价和打分。\n",
    "\n",
    "（13）**光读字符识别（optical character recognization,OCR）：** 通过计算机系统对印刷体或手写体等文字进行自动识别，将其转换成计算机可以处理的电子文本，简称字符识别或文字识别。\n",
    "\n",
    "（14）**语音识别（speech recogniztion）：** 将输入计算机的语音信息识别转换成书面语表示。\n",
    "\n",
    "（15）**文语转换（text-to-speech conversion）：** 将书面文本自动转换成对应的语音表征，又称为语音合成（speech synthesis）\n",
    "\n",
    "（16）**说话人识别/认证/验证（speaker recognition/identification/vertication）：** 对一说话人的言语样本做声学分析，依此推断（确定或验证）说话人的身份。\n"
   ]
  },
  {
   "cell_type": "markdown",
   "metadata": {},
   "source": []
  },
  {
   "cell_type": "markdown",
   "metadata": {},
   "source": [
    "### <font color = 'blue'>**自然语言处理涉及的几个层次：**</font>"
   ]
  },
  {
   "cell_type": "markdown",
   "metadata": {},
   "source": [
    "自然语言处理研究的问题一般会涉及自然语言的形态学、语法学、语义学和语用学等几个层次：\n",
    "\n",
    "（1）**形态学（morphology）：** 形态学（又称为 \"语汇形态学\" 或 \"语法\"）是语言学的一个分支，研究词的内部结构，包括屈折变化和构词法两个部分。由于词具有语音特征、句法特征和语义特征，形态学处理音位学、句法学和语义学和结合部位，所以形态学是每个语言学家都要关注的一门学科。\n",
    "\n",
    "（2）**语法学（syntax）：** 研究句子结构成分之间的相互关系和组成句子序列的规则。其关注的中心是：为什么一句话可以这么说，也可以那么说？\n",
    "\n",
    "（3）**语义学（semantics）：** 语义学的研究对象是语言的各级单位（词素、词、词组、句子、句子群、整段整篇的话语和文章，乃至整体著作）的意义，双及语义与语音、语法、修辞、文字、语境、哲学思想、社会环境、个人修养等的关系。其重点在于探明符号与符号所指的对象之间的关系，从而指导人们的言语活动。它所关注的重点是：这个语言单位到底说了什么？\n",
    "\n",
    "（4）**语用学（pragmatics）：** 其关注的重点在于：为什么在特定的上下文中要说这句话？\n"
   ]
  },
  {
   "cell_type": "markdown",
   "metadata": {},
   "source": []
  },
  {
   "cell_type": "markdown",
   "metadata": {},
   "source": [
    "<font size=4 color='red'><b>实现所有这些应用目标最终需要解决的关键问题就是歧义消解（disambiguation）问题和未知语言现象的处理问题。</b></font>"
   ]
  },
  {
   "cell_type": "markdown",
   "metadata": {},
   "source": []
  },
  {
   "cell_type": "markdown",
   "metadata": {},
   "source": []
  },
  {
   "cell_type": "markdown",
   "metadata": {},
   "source": []
  },
  {
   "cell_type": "markdown",
   "metadata": {},
   "source": []
  },
  {
   "cell_type": "markdown",
   "metadata": {},
   "source": []
  },
  {
   "cell_type": "markdown",
   "metadata": {},
   "source": []
  }
 ],
 "metadata": {
  "kernelspec": {
   "display_name": "Python 3",
   "language": "python",
   "name": "python3"
  },
  "language_info": {
   "codemirror_mode": {
    "name": "ipython",
    "version": 3
   },
   "file_extension": ".py",
   "mimetype": "text/x-python",
   "name": "python",
   "nbconvert_exporter": "python",
   "pygments_lexer": "ipython3",
   "version": "3.6.7"
  }
 },
 "nbformat": 4,
 "nbformat_minor": 4
}
